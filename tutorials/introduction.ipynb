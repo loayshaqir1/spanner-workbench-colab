{
 "cells": [
  {
   "cell_type": "markdown",
   "metadata": {
    "pycharm": {
     "name": "#%% md\n"
    }
   },
   "source": [
    "# Spanner Workbench Introduction\n",
    "In this tutorial you will learn the basics of spanner workbench:\n",
    "* [how to install, import and use RGXLog](#use_rgxlog)\n",
    "* [local and free variables](#local_and_free_vars)\n",
    "* [local variable assignment](#local_var_assignment)\n",
    "* [reading from a file](#read_a_file)\n",
    "* [declaring a relation](#declare_relations)\n",
    "* [adding facts](#facts)\n",
    "* [adding rules](#rules)\n",
    "* [queries](#queries)\n",
    "* [using RGXLog's default IE functions: functional regex formulas](#RGX_ie)\n",
    "* [using custom IE functions](#custom_ie)\n",
    "* [additional small features](#small_features)\n",
    "\n",
    "[example for a small RGXLog program.](#example_program)"
   ]
  },
  {
   "cell_type": "markdown",
   "metadata": {
    "pycharm": {
     "name": "#%% md\n"
    }
   },
   "source": [
    "# Using RGXLog<a class=\"anchor\" id=\"use_rgxlog\"></a>"
   ]
  },
  {
   "cell_type": "markdown",
   "metadata": {
    "pycharm": {
     "name": "#%% md\n"
    }
   },
   "source": [
    "### Installation"
   ]
  },
  {
   "cell_type": "markdown",
   "metadata": {
    "lines_to_next_cell": 0,
    "pycharm": {
     "name": "#%% md\n"
    }
   },
   "source": [
    "prerequisites:\n",
    "\n",
    "* Have [Python](https://www.python.org/downloads/) version 3.8 or above installed\n",
    "\n",
    "To download and install RGXLog run the following commands in your terminal:\n",
    "\n",
    "```bash\n",
    "git clone https://github.com/DeanLight/spanner_workbench\n",
    "cd spanner_workbench\n",
    "pip install src/rgxlog-interpreter \n",
    "```"
   ]
  },
  {
   "cell_type": "markdown",
   "metadata": {
    "pycharm": {
     "name": "#%% md\n"
    }
   },
   "source": [
    "Make sure you are calling the pip version of your current python environment.\n",
    "To install with another python interpreter, run"
   ]
  },
  {
   "cell_type": "markdown",
   "metadata": {
    "lines_to_next_cell": 0,
    "pycharm": {
     "name": "#%% md\n"
    }
   },
   "source": [
    "```bash\n",
    "<path_to_python_interpreter> -m pip install src/rgxlog-interpreter\n",
    "```"
   ]
  },
  {
   "cell_type": "markdown",
   "metadata": {
    "pycharm": {
     "name": "#%% md\n"
    }
   },
   "source": [
    "You can also install RGXLog in the current Jupyter kernel:\n",
    "<!-- #endregion -->"
   ]
  },
  {
   "cell_type": "code",
   "execution_count": null,
   "outputs": [],
   "source": [
    "```python\n",
    "import sys\n",
    "from pathlib import Path\n",
    "current_python=f\"{sys.executable}\"\n",
    "package_path=Path(\"../src/rgxlog-interpreter\")\n",
    "```"
   ],
   "metadata": {
    "collapsed": false,
    "pycharm": {
     "name": "#%%\n"
    }
   }
  },
  {
   "cell_type": "markdown",
   "metadata": {
    "pycharm": {
     "name": "#%% md\n"
    }
   },
   "source": [
    "```\n",
    "! {current_python} -m pip install {package_path}\n",
    "```"
   ]
  },
  {
   "cell_type": "markdown",
   "metadata": {
    "pycharm": {
     "name": "#%% md\n"
    }
   },
   "source": [
    "In order to use RGXLog in jupyter notebooks, you must first load it:\n"
   ]
  },
  {
   "cell_type": "code",
   "execution_count": 1,
   "metadata": {
    "pycharm": {
     "name": "#%%\n"
    }
   },
   "outputs": [],
   "source": [
    "import rgxlog  # or `load_ext rgxlog`"
   ]
  },
  {
   "cell_type": "markdown",
   "metadata": {
    "pycharm": {
     "name": "#%% md\n"
    }
   },
   "source": [
    "Importing the RGXLog library automatically loads the `%rgxlog` and `%%rgxlog` cell magics which accepts RGXLog queries as shown below.<br>\n",
    "use %rgxlog to run a single line, and %%rgxlog to run a block of code:"
   ]
  },
  {
   "cell_type": "code",
   "execution_count": 2,
   "metadata": {
    "pycharm": {
     "name": "#%%\n"
    }
   },
   "outputs": [
    {
     "name": "stdout",
     "output_type": "stream",
     "text": [
      "this is python code\n"
     ]
    }
   ],
   "source": [
    "%rgxlog new relation(str)\n",
    "print(\"this is python code\")"
   ]
  },
  {
   "cell_type": "code",
   "execution_count": 3,
   "metadata": {
    "pycharm": {
     "name": "#%%\n"
    }
   },
   "outputs": [
    {
     "name": "stdout",
     "output_type": "stream",
     "text": [
      "printing results for query 'uncle(X, Y)':\n",
      "  X  |  Y\n",
      "-----+------\n",
      " bob | greg\n",
      "\n"
     ]
    }
   ],
   "source": [
    "%%rgxlog\n",
    "new uncle(str, str)\n",
    "uncle(\"bob\", \"greg\")\n",
    "?uncle(X,Y)"
   ]
  },
  {
   "cell_type": "markdown",
   "metadata": {
    "pycharm": {
     "name": "#%% md\n"
    }
   },
   "source": [
    "# Local and free variables<a class=\"anchor\" id=\"local_and_free_vars\"></a>\n",
    "\n",
    "RGXLog distinguishes two kinds of variables.\n",
    "\n",
    "The first kind are local variables. These are variables that store a single value (e.g. string). They work similarly to variables in python. A local variable must be defined via assignment before being used.\n",
    "\n",
    "A local variable name must begin with a lowercase letter or with an underscore (_), and can be continued with letters, digits and underscores\n",
    "\n",
    "Here are some examples for legal local variable names:\n",
    "* `a`\n",
    "* `a_name123`\n",
    "* `_Some_STRING`\n",
    "\n",
    "And here are some illegal local variable names:\n",
    "* `A`\n",
    "* `A_name`\n",
    "* `1_a`\n",
    "\n",
    "\n",
    "The second kind of variables are free variables. Free variables do not hold any value and are used to define relations inside [queries](#queries) and [rules](#rules). Free variables do not need to be declared or defined before being used.\n",
    "\n",
    "A free variable name must begin with an uppercase letter and can be continued with letters, digits and underscores\n",
    "\n",
    "Here are some examples for legal free variable names:\n",
    "* `A`\n",
    "* `A_name`\n",
    "\n",
    "And here are some illegal free variable names:\n",
    "* `a`\n",
    "* `a_name`\n",
    "* `_Some_STRING`\n",
    "* `1A`\n"
   ]
  },
  {
   "cell_type": "markdown",
   "metadata": {
    "pycharm": {
     "name": "#%% md\n"
    }
   },
   "source": [
    "# Local variable assignment<a class=\"anchor\" id=\"local_var_assignment\"></a>\n",
    "RGXLog allows you to use three types of variables: strings, integers and spans.\n",
    "The assignment of a string is intuitive:"
   ]
  },
  {
   "cell_type": "code",
   "execution_count": 4,
   "metadata": {
    "pycharm": {
     "name": "#%%\n"
    }
   },
   "outputs": [],
   "source": [
    "%%rgxlog\n",
    "b = \"bob\"\n",
    "b2 = b #r b2's value is \"bob\"\n",
    "# you can write multiline strings using a line overflow escape like in python\n",
    "b3 = \"this is a multiline  \\\n",
    "string\"\n",
    "b4 = \"this is a multiline string\" # b4 holds the same value as b3"
   ]
  },
  {
   "cell_type": "markdown",
   "metadata": {
    "pycharm": {
     "name": "#%% md\n"
    }
   },
   "source": [
    "The assignment of integers is also very simple:"
   ]
  },
  {
   "cell_type": "code",
   "execution_count": 5,
   "metadata": {
    "pycharm": {
     "name": "#%%\n"
    }
   },
   "outputs": [],
   "source": [
    "%%rgxlog\n",
    "n = 4\n",
    "n2 = n # n2 = 4"
   ]
  },
  {
   "cell_type": "markdown",
   "metadata": {
    "pycharm": {
     "name": "#%% md\n"
    }
   },
   "source": [
    " A span identifies a substring of a string by specifying its bounding indices. It is constructed from two integers.\n",
    " You can assign a span value like this:"
   ]
  },
  {
   "cell_type": "code",
   "execution_count": 6,
   "metadata": {
    "pycharm": {
     "name": "#%%\n"
    }
   },
   "outputs": [],
   "source": [
    "%%rgxlog\n",
    "span1 = [3,7)\n",
    "span2 = span1 # span2 value is [3,7)"
   ]
  },
  {
   "cell_type": "markdown",
   "metadata": {
    "pycharm": {
     "name": "#%% md\n"
    }
   },
   "source": [
    "# Reading from a file<a class=\"anchor\" id=\"read_a_file\"></a>\n",
    "You can also perform a string assignment by reading from a file. You will need to provide a path to a file by either using a string literal or a string variable:"
   ]
  },
  {
   "cell_type": "code",
   "execution_count": 7,
   "metadata": {
    "pycharm": {
     "name": "#%%\n"
    }
   },
   "outputs": [],
   "source": [
    "%%rgxlog\n",
    "a = read(\"introduction.ipynb\")\n",
    "b = \"introduction.ipynb\" \n",
    "c = read(b) # c holds the same string value as a"
   ]
  },
  {
   "cell_type": "markdown",
   "metadata": {
    "pycharm": {
     "name": "#%% md\n"
    }
   },
   "source": [
    "# Declaring a relation<a class=\"anchor\" id=\"declare_relations\"></a>\n",
    "RGXLog allows you to define and query relations.\n",
    "You have to declare a relation before you can use it (unless you define it with a rule as we'll see in the \"rules\" chapter). Each term in a relation could be a string, an integer or a span. Here are some examples for declaring relations:"
   ]
  },
  {
   "cell_type": "code",
   "execution_count": 8,
   "metadata": {
    "pycharm": {
     "name": "#%%\n"
    }
   },
   "outputs": [],
   "source": [
    "%%rgxlog\n",
    "# 'brothers' is a relation with two string terms.\n",
    "new brothers(str, str)\n",
    "# 'confused' is a relation with one string term.\n",
    "new confused(str)\n",
    "# 'animal' is a relation with one string term and one span term \n",
    "new animal(str, span)\n",
    "# 'scores' is a relation with one string term and one int term\n",
    "new scores(str, int)"
   ]
  },
  {
   "cell_type": "markdown",
   "metadata": {
    "pycharm": {
     "name": "#%% md\n"
    }
   },
   "source": [
    "# Facts<a class=\"anchor\" id=\"facts\"></a>\n",
    "RGXLog is an extension of Datalog, a declarative logic programming language. In Datalog you can declare \"facts\", essentially adding tuples to a relation. To do it you use the following syntax:\n",
    "\n",
    "```\n",
    "relation_name(term_1,term_2,...term_3)\n",
    "```\n",
    "\n",
    "or\n",
    "\n",
    "```\n",
    "relation_name(term_1,term_2,...term_3) <- True\n",
    "```\n",
    "\n",
    "where each `term` is either a constant or a local variable that is from the same variable type that was declared for `relation_name` at the same location.\n",
    "\n",
    "For example:"
   ]
  },
  {
   "cell_type": "code",
   "execution_count": 9,
   "metadata": {
    "pycharm": {
     "name": "#%%\n"
    }
   },
   "outputs": [],
   "source": [
    "%%rgxlog\n",
    "# first declare the relation that you want to use\n",
    "new noun(str, span)\n",
    "# now you can add facts (tuples) to that relation\n",
    "# this span indicates that a noun \"Life\" can be found at indexes 0 to 3\n",
    "noun(\"Life finds a way\", [0,4)) \n",
    "# another example\n",
    "new sisters(str, str)\n",
    "sisters(\"alice\", \"rin\") <- True\n",
    "# sisters([0,4), \"rin\") # illegal as [0,4) is not a string"
   ]
  },
  {
   "cell_type": "markdown",
   "metadata": {
    "pycharm": {
     "name": "#%% md\n"
    }
   },
   "source": [
    "You could also remove a fact using a similar syntax:\n",
    "\n",
    "```relation_name(term_1,term_2,...term_3) <- False```\n",
    "\n",
    "if a fact that you try to remove does not exist, the remove fact statement will be silently ignored\n",
    "\n",
    "\n",
    "```python\n",
    "%%rgxlog\n",
    "new goals(str, int)\n",
    "goals(\"kronovi\", 10)\n",
    "goals(\"kronovi\", 10) <- False  # 'goals' relation is now empty\n",
    "goals(\"kronovi\", 10) <- False  # this statement does nothing\n",
    "```\n",
    "\n",
    "# Rules<a class=\"anchor\" id=\"rules\"></a>\n",
    "Datalog allows you to deduce new tuples for a relation.\n",
    "RGXLog includes this feature as well:"
   ]
  },
  {
   "cell_type": "code",
   "execution_count": 10,
   "metadata": {
    "pycharm": {
     "name": "#%%\n"
    }
   },
   "outputs": [],
   "source": [
    "%%rgxlog\n",
    "new parent(str ,str)\n",
    "parent(\"bob\", \"greg\")\n",
    "parent(\"greg\", \"alice\")\n",
    "# now add a rule that deduces that bob is a grandparent of alice\n",
    "grandparent(X,Z) <- parent(X,Y), parent(Y,Z) # ',' is a short hand to the 'and' operator"
   ]
  },
  {
   "cell_type": "markdown",
   "metadata": {
    "pycharm": {
     "name": "#%% md\n"
    }
   },
   "source": [
    "RGXLog also supports recursive rules:"
   ]
  },
  {
   "cell_type": "code",
   "execution_count": 11,
   "metadata": {
    "pycharm": {
     "name": "#%%\n"
    }
   },
   "outputs": [
    {
     "name": "stdout",
     "output_type": "stream",
     "text": [
      "printing results for query 'ancestor(\"Liam\", X)':\n",
      "    X\n",
      "----------\n",
      " Benjamin\n",
      "  Mason\n",
      "   Noah\n",
      "  Oliver\n",
      "\n",
      "printing results for query 'ancestor(X, \"Mason\")':\n",
      "    X\n",
      "----------\n",
      " Benjamin\n",
      "   Liam\n",
      "   Noah\n",
      "\n",
      "printing results for query 'ancestor(\"Mason\", X)':\n",
      "[]\n",
      "\n"
     ]
    }
   ],
   "source": [
    "%%rgxlog\n",
    "parent(\"Liam\", \"Noah\")\n",
    "parent(\"Noah\", \"Oliver\")\n",
    "parent(\"James\", \"Lucas\")\n",
    "parent(\"Noah\", \"Benjamin\")\n",
    "parent(\"Benjamin\", \"Mason\")\n",
    "ancestor(X,Y) <- parent(X,Y)\n",
    "# This is a recursive rule\n",
    "ancestor(X,Y) <- parent(X,Z), ancestor(Z,Y)\n",
    "\n",
    "# Queries are explained in the next section\n",
    "?ancestor(\"Liam\", X)\n",
    "?ancestor(X, \"Mason\")\n",
    "?ancestor(\"Mason\", X)"
   ]
  },
  {
   "cell_type": "markdown",
   "metadata": {
    "pycharm": {
     "name": "#%% md\n"
    }
   },
   "source": [
    "You could also remove a rule via the session:\n",
    "\n",
    "```magic_session.remove_rule(rule_to_delete)```\n",
    "\n",
    "note: the rule must be written exactly as it appears in the output of `print_all_rules`\n",
    "\n",
    "```python\n",
    "\n",
    "```"
   ]
  },
  {
   "cell_type": "code",
   "execution_count": 12,
   "metadata": {
    "pycharm": {
     "name": "#%%\n"
    }
   },
   "outputs": [
    {
     "name": "stdout",
     "output_type": "stream",
     "text": [
      "printing results for query 'ancestor(X, Y)':\n",
      "    X     |    Y\n",
      "----------+----------\n",
      " Benjamin |  Mason\n",
      "  Drake   |   Josh\n",
      "  James   |  Lucas\n",
      "   Liam   | Benjamin\n",
      "   Liam   |  Mason\n",
      "   Liam   |   Noah\n",
      "   Liam   |  Oliver\n",
      "   Noah   | Benjamin\n",
      "   Noah   |  Mason\n",
      "   Noah   |  Oliver\n",
      "   bob    |  alice\n",
      "   bob    |   greg\n",
      "   greg   |  alice\n",
      "\n"
     ]
    }
   ],
   "source": [
    "%%rgxlog\n",
    "confused(\"Josh\")\n",
    "brothers(\"Drake\", \"Josh\")\n",
    "\n",
    "# oops! this rule was added by mistake!\n",
    "ancestor(X, Y) <- brothers(X, Y), confused(Y)\n",
    "\n",
    "?ancestor(X,Y)"
   ]
  },
  {
   "cell_type": "code",
   "execution_count": 13,
   "metadata": {
    "pycharm": {
     "name": "#%%\n"
    }
   },
   "outputs": [
    {
     "name": "stdout",
     "output_type": "stream",
     "text": [
      "before:\n",
      "Printing all the rules:\n",
      "\t1. grandparent(X, Z) <- parent(X, Y), parent(Y, Z)\n",
      "\t2. ancestor(X, Y) <- parent(X, Y)\n",
      "\t3. ancestor(X, Y) <- parent(X, Z), ancestor(Z, Y)\n",
      "\t4. ancestor(X, Y) <- brothers(X, Y), confused(Y)\n",
      "after:\n",
      "Printing all the rules:\n",
      "\t1. grandparent(X, Z) <- parent(X, Y), parent(Y, Z)\n",
      "\t2. ancestor(X, Y) <- parent(X, Y)\n",
      "\t3. ancestor(X, Y) <- parent(X, Z), ancestor(Z, Y)\n"
     ]
    }
   ],
   "source": [
    "from rgxlog import magic_session\n",
    "# remove the rule from the current session\n",
    "print (\"before:\")\n",
    "magic_session.print_all_rules()\n",
    "\n",
    "magic_session.remove_rule(\"ancestor(X, Y) <- brothers(X, Y), confused(Y)\")\n",
    "\n",
    "print (\"after:\")\n",
    "magic_session.print_all_rules()"
   ]
  },
  {
   "cell_type": "code",
   "execution_count": 14,
   "metadata": {
    "scrolled": true,
    "pycharm": {
     "name": "#%%\n"
    }
   },
   "outputs": [
    {
     "name": "stdout",
     "output_type": "stream",
     "text": [
      "printing results for query 'ancestor(X, Y)':\n",
      "    X     |    Y\n",
      "----------+----------\n",
      " Benjamin |  Mason\n",
      "  James   |  Lucas\n",
      "   Liam   | Benjamin\n",
      "   Liam   |  Mason\n",
      "   Liam   |   Noah\n",
      "   Liam   |  Oliver\n",
      "   Noah   | Benjamin\n",
      "   Noah   |  Mason\n",
      "   Noah   |  Oliver\n",
      "   bob    |  alice\n",
      "   bob    |   greg\n",
      "   greg   |  alice\n",
      "\n"
     ]
    }
   ],
   "source": [
    "%%rgxlog\n",
    "?ancestor(X,Y)"
   ]
  },
  {
   "cell_type": "markdown",
   "metadata": {
    "pycharm": {
     "name": "#%% md\n"
    }
   },
   "source": [
    "success! the rule was deleted - Drake and Josh are no longer part of the `?ancestor` query result"
   ]
  },
  {
   "cell_type": "markdown",
   "metadata": {
    "pycharm": {
     "name": "#%% md\n"
    }
   },
   "source": [
    "Note that during this examples we used ```print_all_rules```.<br>\n",
    "This function prints all the registered rules.<br>\n",
    "If you wan't to print only rules that relevant to spesific rule head, you can pass the rule head as a parameter."
   ]
  },
  {
   "cell_type": "code",
   "execution_count": 15,
   "metadata": {
    "pycharm": {
     "name": "#%%\n"
    }
   },
   "outputs": [
    {
     "name": "stdout",
     "output_type": "stream",
     "text": [
      "Printing all the rules with head ancestor:\n",
      "\t1. ancestor(X, Y) <- parent(X, Y)\n",
      "\t2. ancestor(X, Y) <- parent(X, Z), ancestor(Z, Y)\n"
     ]
    }
   ],
   "source": [
    "magic_session.print_all_rules(\"ancestor\")"
   ]
  },
  {
   "cell_type": "markdown",
   "metadata": {
    "pycharm": {
     "name": "#%% md\n"
    }
   },
   "source": [
    "In addition you can use ```remove_all_rules``` to remove all the rules (it won't affect the facts).<br>\n",
    "You can pass rule head paraemetr to remove all the rules related to it."
   ]
  },
  {
   "cell_type": "code",
   "execution_count": 16,
   "metadata": {
    "pycharm": {
     "name": "#%%\n"
    }
   },
   "outputs": [
    {
     "name": "stdout",
     "output_type": "stream",
     "text": [
      "after removing ancestor rules:\n",
      "Printing all the rules:\n",
      "\t1. grandparent(X, Z) <- parent(X, Y), parent(Y, Z)\n",
      "after removing all rules:\n",
      "Printing all the rules:\n",
      "printing results for query 'parent(X, Y)':\n",
      "    X     |    Y\n",
      "----------+----------\n",
      "   bob    |   greg\n",
      "   greg   |  alice\n",
      "   Liam   |   Noah\n",
      "   Noah   |  Oliver\n",
      "  James   |  Lucas\n",
      "   Noah   | Benjamin\n",
      " Benjamin |  Mason\n",
      "\n"
     ]
    }
   ],
   "source": [
    "magic_session.remove_all_rules(\"ancestor\")\n",
    "print(\"after removing ancestor rules:\")\n",
    "magic_session.print_all_rules()\n",
    "\n",
    "magic_session.remove_all_rules()\n",
    "print(\"after removing all rules:\")\n",
    "magic_session.print_all_rules()\n",
    "\n",
    "# facts are not affected...\n",
    "%rgxlog ?parent(X, Y)"
   ]
  },
  {
   "cell_type": "markdown",
   "metadata": {
    "pycharm": {
     "name": "#%% md\n"
    }
   },
   "source": [
    "# Queries<a class=\"anchor\" id=\"queries\"></a>\n",
    "Querying is very simple in RGXLog. You can query by using constant values, local variables and free variables:"
   ]
  },
  {
   "cell_type": "code",
   "execution_count": 17,
   "metadata": {
    "pycharm": {
     "name": "#%%\n"
    }
   },
   "outputs": [
    {
     "name": "stdout",
     "output_type": "stream",
     "text": [
      "printing results for query 'grandfather(\"bob\", \"alice\")':\n",
      "[()]\n",
      "\n",
      "printing results for query 'grandfather(\"edward\", \"alice\")':\n",
      "[]\n",
      "\n",
      "printing results for query 'grandfather(\"george\", X)':\n",
      "   X\n",
      "-------\n",
      " alice\n",
      "  rin\n",
      "\n",
      "printing results for query 'grandfather(X, \"rin\")':\n",
      "   X\n",
      "--------\n",
      "  bob\n",
      " george\n",
      "\n",
      "printing results for query 'grandfather(X, Y)':\n",
      "   X    |   Y\n",
      "--------+-------\n",
      "  bob   | alice\n",
      "  bob   |  rin\n",
      " george | alice\n",
      " george |  rin\n",
      " edward | john\n",
      "\n",
      "printing results for query 'verb(\"Ron eats quickly.\", X)':\n",
      "   X\n",
      "--------\n",
      " [4, 8)\n",
      "\n",
      "printing results for query 'verb(X, [4, 9))':\n",
      "         X\n",
      "-------------------\n",
      " You write neatly.\n",
      "\n",
      "printing results for query 'orders(X, 4)':\n",
      "   X\n",
      "-------\n",
      "  pie\n",
      " pizza\n",
      "\n"
     ]
    }
   ],
   "source": [
    "%%rgxlog\n",
    "# first create a relation with some facts for the example\n",
    "new grandfather(str, str)\n",
    "# bob and george are the grandfathers of alice and rin\n",
    "grandfather(\"bob\", \"alice\")\n",
    "grandfather(\"bob\", \"rin\")\n",
    "grandfather(\"george\", \"alice\")\n",
    "grandfather(\"george\", \"rin\")\n",
    "# edward is the grandfather of john\n",
    "grandfather(\"edward\", \"john\")\n",
    "\n",
    "# now for the queries\n",
    "?grandfather(\"bob\", \"alice\") # returns an empty tuple () as alice is bob's grandchild\n",
    "?grandfather(\"edward\", \"alice\") # returns nothing as alice is not edward's grandchild\n",
    "?grandfather(\"george\", X) # returns \"rin\" and \"alice\" as both rin\n",
    "# and alice are george's grandchildren\n",
    "?grandfather(X, \"rin\") # returns \"bob\" and \"george\" (rin's grandfathers)\n",
    "?grandfather(X, Y) # returns all the tuples in the 'grandfather' relation\n",
    "\n",
    "new verb(str, span)\n",
    "verb(\"Ron eats quickly.\", [4,8))\n",
    "verb(\"You write neatly.\", [4,9))\n",
    "?verb(\"Ron eats quickly.\", X) # returns [4,8)\n",
    "?verb(X,[4,9)) # returns \"You write neatly.\"\n",
    "         \n",
    "new orders(str, int)\n",
    "orders(\"pie\", 4)\n",
    "orders(\"pizza\", 4)\n",
    "orders(\"cake\", 0)\n",
    "?orders(X, 4) # retutns \"pie\" and \"pizza\"         "
   ]
  },
  {
   "cell_type": "markdown",
   "metadata": {
    "pycharm": {
     "name": "#%% md\n"
    }
   },
   "source": [
    "You may have noticed that the query\n",
    "\n",
    "```\n",
    "?grandfather(\"bob\", \"alice\")\n",
    "```\n",
    "\n",
    "returns an empty tuple. This is because of the fact that bob is alice's grandfather is true,\n",
    "but we did not use any free variables to construct the tuple of the query's relation, that is why we get a single empty tuple as a result\n",
    "\n",
    "A good example for using free variables to construct a relation is the query:\n",
    "\n",
    "```\n",
    "?grandfather(\"george\", X)\n",
    "```\n",
    "\n",
    "which finds all of george's grandchildren (`X`) and constructs a tuple for each one."
   ]
  },
  {
   "cell_type": "markdown",
   "metadata": {
    "pycharm": {
     "name": "#%% md\n"
    }
   },
   "source": [
    "# Using IE Functions"
   ]
  },
  {
   "cell_type": "markdown",
   "metadata": {
    "pycharm": {
     "name": "#%% md\n"
    }
   },
   "source": [
    "## Functional regex formulas<a class=\"anchor\" id=\"RGX_ie\"></a>\n",
    "RGXLog contains IE functions which are registered by default.\n",
    "Let's go over a couple regex IE functions:\n",
    "\n",
    "\n",
    "```\n",
    "rgx_span(regex_input ,regex_formula)->(x_1, x_2, ...,x_n)\n",
    "```\n",
    "\n",
    "and\n",
    "\n",
    "```\n",
    "rgx_string(regex_input ,regex_formula)->(x_1, x_2, ...,x_n)\n",
    "```\n",
    "\n",
    "where:\n",
    "* `regex_input` is the string that the regex operation will be performed on\n",
    "* `regex_formula` is either a string literal or a string variable that represents your regular expression.\n",
    "* `x_1`, `x_2`, ... `x_n` can be either constant terms or free variable terms. They're used to construct the tuples of the resulting relation. the number of terms has to be the same as the number of capture groups used in `regex_formula`. If not capture groups are used, then each returned tuple includes a single, whole regex match, so only one term should be used.\n",
    "\n",
    "The only difference between the `rgx_span` and `rgx_string` ie functions, is that rgx_string returns strings, while rgx_span returns the spans of those strings. This also means that if you want to use constant terms as return values, they have to be spans if you use `rgx_span`, and strings if you use `rgx_string`\n",
    "\n",
    "For example:"
   ]
  },
  {
   "cell_type": "markdown",
   "metadata": {
    "pycharm": {
     "name": "#%% md\n"
    }
   },
   "source": [
    "## Creating and Registering a New IE Function<a class=\"anchor\" id=\"custom_ie\"></a>"
   ]
  },
  {
   "cell_type": "markdown",
   "metadata": {
    "pycharm": {
     "name": "#%% md\n"
    }
   },
   "source": [
    "Using regex is nice, but what if you want to define your own IE function? <br>\n",
    "RGXLog allows you to define and use your own information extraction functions. You can use them only in rule bodies in the current version. The following is the syntax for custom IE functions:\n",
    "\n",
    "```\n",
    "func(term_1,term_2,...term_n)->(x_1, x_2, ..., x_n)\n",
    "```\n",
    "\n",
    "where:\n",
    "* `func` is a IE function that was previously defined and registered (see the 'advanced_usage' tutorial)\n",
    "* `term_1`,`term_2`,...,`term_n` are the parameters for func\n",
    "* `x_1`, ... `x_n` could be any type of terms, and are used to construct tuples of the resulting relation\n",
    "\n",
    "For example:"
   ]
  },
  {
   "cell_type": "markdown",
   "metadata": {
    "pycharm": {
     "name": "#%% md\n"
    }
   },
   "source": [
    "### IE function `get_happy`"
   ]
  },
  {
   "cell_type": "code",
   "execution_count": 18,
   "metadata": {
    "pycharm": {
     "name": "#%%\n"
    }
   },
   "outputs": [],
   "source": [
    "import re\n",
    "from rgxlog.engine.datatypes.primitive_types import DataTypes\n",
    "\n",
    "# the function itself, which should yield an iterable of primitive types\n",
    "def get_happy(text):\n",
    "    \"\"\"\n",
    "    get the names of people who are happy in `text`\n",
    "    \"\"\"\n",
    "    compiled_rgx = re.compile(\"(\\w+) is happy\")\n",
    "    num_groups = compiled_rgx.groups\n",
    "    for match in re.finditer(compiled_rgx, text):\n",
    "        if num_groups == 0:\n",
    "            matched_strings = [match.group()]\n",
    "        else:\n",
    "            matched_strings = [group for group in match.groups()]\n",
    "        yield matched_strings\n",
    "\n",
    "# the input types, a list of primitive types\n",
    "get_happy_in_types = [DataTypes.string]\n",
    "\n",
    "# the output types, either a list of primitive types or a method which expects an arity\n",
    "get_happy_out_types = lambda arity : arity * [DataTypes.string]\n",
    "# or: `get_happy_out_types = [DataTypes.string]`\n",
    "\n",
    "# finally, register the function\n",
    "magic_session.register(ie_function=get_happy,\n",
    "                       ie_function_name = \"get_happy\",\n",
    "                       in_rel=get_happy_in_types,\n",
    "                       out_rel=get_happy_out_types)"
   ]
  },
  {
   "cell_type": "markdown",
   "metadata": {
    "pycharm": {
     "name": "#%% md\n"
    }
   },
   "source": [
    "### custom IE using `get_happy`"
   ]
  },
  {
   "cell_type": "code",
   "execution_count": 19,
   "metadata": {
    "lines_to_next_cell": 0,
    "scrolled": true,
    "pycharm": {
     "name": "#%%\n"
    }
   },
   "outputs": [
    {
     "name": "stdout",
     "output_type": "stream",
     "text": [
      "printing results for query 'happy_grandmother(X)':\n",
      "  X\n",
      "-----\n",
      " rin\n",
      "\n"
     ]
    }
   ],
   "source": [
    "%%rgxlog\n",
    "new grandmother(str, str)\n",
    "grandmother(\"rin\", \"alice\")\n",
    "grandmother(\"denna\", \"joel\")\n",
    "sentence = \"rin is happy, denna is sad.\"\n",
    "# note that this statement will fail as 'get_happy' is not registered as an ie_function\n",
    "happy_grandmother(X) <- grandmother(X,Z),get_happy(sentence)->(X)\n",
    "?happy_grandmother(X) # assuming get_happy returned \"rin\", also returns \"rin\""
   ]
  },
  {
   "cell_type": "markdown",
   "metadata": {
    "pycharm": {
     "name": "#%% md\n"
    }
   },
   "source": [
    "## More information about IE functions\n",
    "* You can remove an IE function via the session:\n",
    "\n",
    "```magic_session.remove_ie_function(ie_function_name)```\n",
    "\n",
    "* If you want to remove all the registered ie functions:\n",
    "\n",
    "```magic_session.remove_all_ie_functions()```\n",
    "\n",
    "* If you register an IE function with a name that was already registered before, the old IE function will be overwitten by the new one. \n",
    "<br><br>\n",
    "* You can inspect all the registered IE functions using the following command:\n",
    "\n",
    "```magic_session.print_registered_ie_functions()```\n",
    "\n",
    "```python\n",
    "# first, let's print all functions:\n",
    "magic_session.print_registered_ie_functions()\n",
    "```"
   ]
  },
  {
   "cell_type": "code",
   "execution_count": 20,
   "metadata": {
    "pycharm": {
     "name": "#%%\n"
    }
   },
   "outputs": [
    {
     "name": "stdout",
     "output_type": "stream",
     "text": [
      "py_rgx_span\n",
      "<bound method IEFunction.get_meta_data of <rgxlog.engine.ie_function.IEFunction object at 0x7f4d1659b730>>\n",
      "<rgxlog.engine.ie_function.IEFunction object at 0x7f4d1659b730>\n",
      "\n",
      "    An IE function which runs regex using python's `re` and yields tuples of spans.\n",
      "\n",
      "    @param text: The input text for the regex operation.\n",
      "    @param regex_pattern: the pattern of the regex operation.\n",
      "    @return: tuples of spans that represents the results.\n",
      "    \n",
      "\n",
      "\n",
      "py_rgx_string\n",
      "<bound method IEFunction.get_meta_data of <rgxlog.engine.ie_function.IEFunction object at 0x7f4d1659b4c0>>\n",
      "<rgxlog.engine.ie_function.IEFunction object at 0x7f4d1659b4c0>\n",
      "\n",
      "    An IE function which runs regex using python's `re` and yields tuples of strings.\n",
      "\n",
      "    @param text: The input text for the regex operation.\n",
      "    @param regex_pattern: the pattern of the regex operation.\n",
      "    @return: tuples of strings that represents the results.\n",
      "    \n",
      "\n",
      "\n",
      "rgx_span\n",
      "<bound method IEFunction.get_meta_data of <rgxlog.engine.ie_function.IEFunction object at 0x7f4d1659b970>>\n",
      "<rgxlog.engine.ie_function.IEFunction object at 0x7f4d1659b970>\n",
      "\n",
      "    @param text: The input text for the regex operation.\n",
      "    @param regex_pattern: the pattern of the regex operation.\n",
      "    @return: tuples of spans that represents the results.\n",
      "    \n",
      "\n",
      "\n",
      "rgx_string\n",
      "<bound method IEFunction.get_meta_data of <rgxlog.engine.ie_function.IEFunction object at 0x7f4d1659baf0>>\n",
      "<rgxlog.engine.ie_function.IEFunction object at 0x7f4d1659baf0>\n",
      "\n",
      "    @param text: The input text for the regex operation.\n",
      "    @param regex_pattern: the pattern of the regex operation.\n",
      "    @return: tuples of strings that represents the results.\n",
      "    \n",
      "\n",
      "\n",
      "rgx_span_from_file\n",
      "<bound method IEFunction.get_meta_data of <rgxlog.engine.ie_function.IEFunction object at 0x7f4d1659bb80>>\n",
      "<rgxlog.engine.ie_function.IEFunction object at 0x7f4d1659bb80>\n",
      "\n",
      "    @param text_file: The input file for the regex operation.\n",
      "    @param regex_pattern: the pattern of the regex operation.\n",
      "    @return: tuples of spans that represents the results.\n",
      "    \n",
      "\n",
      "\n",
      "rgx_string_from_file\n",
      "<bound method IEFunction.get_meta_data of <rgxlog.engine.ie_function.IEFunction object at 0x7f4d1659bbe0>>\n",
      "<rgxlog.engine.ie_function.IEFunction object at 0x7f4d1659bbe0>\n",
      "\n",
      "    @param text_file: The input file for the regex operation.\n",
      "    @param regex_pattern: the pattern of the regex operation.\n",
      "    @return: tuples of strings that represents the results.\n",
      "    \n",
      "\n",
      "\n",
      "JsonPath\n",
      "<bound method IEFunction.get_meta_data of <rgxlog.engine.ie_function.IEFunction object at 0x7f4d1659bc40>>\n",
      "<rgxlog.engine.ie_function.IEFunction object at 0x7f4d1659bc40>\n",
      "\n",
      "    @param json_document: The document on which we will run the path expression.\n",
      "    @param path_expression: The query to execute.\n",
      "    @return: json documents.\n",
      "    \n",
      "\n",
      "\n",
      "JsonPathFull\n",
      "<bound method IEFunction.get_meta_data of <rgxlog.engine.ie_function.IEFunction object at 0x7f4d1659bca0>>\n",
      "<rgxlog.engine.ie_function.IEFunction object at 0x7f4d1659bca0>\n",
      "\n",
      "    @param json_document: The document on which we will run the path expression.\n",
      "    @param path_expression: The query to execute.\n",
      "    @return: json documents with the full results paths.\n",
      "    \n",
      "\n",
      "\n",
      "Tokenize\n",
      "<bound method IEFunction.get_meta_data of <rgxlog.engine.ie_function.IEFunction object at 0x7f4d1659bd00>>\n",
      "<rgxlog.engine.ie_function.IEFunction object at 0x7f4d1659bd00>\n",
      "None\n",
      "\n",
      "\n",
      "SSplit\n",
      "<bound method IEFunction.get_meta_data of <rgxlog.engine.ie_function.IEFunction object at 0x7f4d1659bd60>>\n",
      "<rgxlog.engine.ie_function.IEFunction object at 0x7f4d1659bd60>\n",
      "None\n",
      "\n",
      "\n",
      "POS\n",
      "<bound method IEFunction.get_meta_data of <rgxlog.engine.ie_function.IEFunction object at 0x7f4d1659bdc0>>\n",
      "<rgxlog.engine.ie_function.IEFunction object at 0x7f4d1659bdc0>\n",
      "None\n",
      "\n",
      "\n",
      "Lemma\n",
      "<bound method IEFunction.get_meta_data of <rgxlog.engine.ie_function.IEFunction object at 0x7f4d1659be20>>\n",
      "<rgxlog.engine.ie_function.IEFunction object at 0x7f4d1659be20>\n",
      "None\n",
      "\n",
      "\n",
      "NER\n",
      "<bound method IEFunction.get_meta_data of <rgxlog.engine.ie_function.IEFunction object at 0x7f4d1659be80>>\n",
      "<rgxlog.engine.ie_function.IEFunction object at 0x7f4d1659be80>\n",
      "None\n",
      "\n",
      "\n",
      "EntityMentions\n",
      "<bound method IEFunction.get_meta_data of <rgxlog.engine.ie_function.IEFunction object at 0x7f4d1659bee0>>\n",
      "<rgxlog.engine.ie_function.IEFunction object at 0x7f4d1659bee0>\n",
      "None\n",
      "\n",
      "\n",
      "CleanXML\n",
      "<bound method IEFunction.get_meta_data of <rgxlog.engine.ie_function.IEFunction object at 0x7f4d1659bf40>>\n",
      "<rgxlog.engine.ie_function.IEFunction object at 0x7f4d1659bf40>\n",
      "None\n",
      "\n",
      "\n",
      "Parse\n",
      "<bound method IEFunction.get_meta_data of <rgxlog.engine.ie_function.IEFunction object at 0x7f4d1659bfa0>>\n",
      "<rgxlog.engine.ie_function.IEFunction object at 0x7f4d1659bfa0>\n",
      "None\n",
      "\n",
      "\n",
      "DepParse\n",
      "<bound method IEFunction.get_meta_data of <rgxlog.engine.ie_function.IEFunction object at 0x7f4d16602040>>\n",
      "<rgxlog.engine.ie_function.IEFunction object at 0x7f4d16602040>\n",
      "None\n",
      "\n",
      "\n",
      "OpenIE\n",
      "<bound method IEFunction.get_meta_data of <rgxlog.engine.ie_function.IEFunction object at 0x7f4d16602100>>\n",
      "<rgxlog.engine.ie_function.IEFunction object at 0x7f4d16602100>\n",
      "None\n",
      "\n",
      "\n",
      "KBP\n",
      "<bound method IEFunction.get_meta_data of <rgxlog.engine.ie_function.IEFunction object at 0x7f4d16602160>>\n",
      "<rgxlog.engine.ie_function.IEFunction object at 0x7f4d16602160>\n",
      "None\n",
      "\n",
      "\n",
      "Quote\n",
      "<bound method IEFunction.get_meta_data of <rgxlog.engine.ie_function.IEFunction object at 0x7f4d166021c0>>\n",
      "<rgxlog.engine.ie_function.IEFunction object at 0x7f4d166021c0>\n",
      "None\n",
      "\n",
      "\n",
      "Sentiment\n",
      "<bound method IEFunction.get_meta_data of <rgxlog.engine.ie_function.IEFunction object at 0x7f4d16602220>>\n",
      "<rgxlog.engine.ie_function.IEFunction object at 0x7f4d16602220>\n",
      "None\n",
      "\n",
      "\n",
      "TrueCase\n",
      "<bound method IEFunction.get_meta_data of <rgxlog.engine.ie_function.IEFunction object at 0x7f4d16602280>>\n",
      "<rgxlog.engine.ie_function.IEFunction object at 0x7f4d16602280>\n",
      "None\n",
      "\n",
      "\n",
      "get_happy\n",
      "<bound method IEFunction.get_meta_data of <rgxlog.engine.ie_function.IEFunction object at 0x7f4d164fb550>>\n",
      "<rgxlog.engine.ie_function.IEFunction object at 0x7f4d164fb550>\n",
      "\n",
      "    get the names of people who are happy in `text`\n",
      "    \n",
      "\n",
      "\n"
     ]
    }
   ],
   "source": [
    "magic_session.remove_ie_function(\"Coref\")\n",
    "magic_session.print_registered_ie_functions()"
   ]
  },
  {
   "cell_type": "markdown",
   "metadata": {
    "pycharm": {
     "name": "#%% md\n"
    }
   },
   "source": [
    "another tremendous triumph! Coref was deleted from the registered functions"
   ]
  },
  {
   "cell_type": "markdown",
   "metadata": {
    "pycharm": {
     "name": "#%% md\n"
    }
   },
   "source": [
    "# Additional small features<a class=\"anchor\" id=\"small_features\"></a>\n",
    "You can use line overflow escapes if you want to split your statements into multiple lines\n",
    "\n",
    "```python pycharm={\"name\": \"#%%\\n\"}\n",
    "%%rgxlog\n",
    "k \\\n",
    "= \"some \\\n",
    "string\"\n",
    "```\n",
    "\n",
    "# RGXLog program example<a class=\"anchor\" id=\"example_program\"></a>"
   ]
  },
  {
   "cell_type": "code",
   "execution_count": 21,
   "metadata": {
    "scrolled": true,
    "pycharm": {
     "name": "#%%\n"
    }
   },
   "outputs": [
    {
     "name": "stdout",
     "output_type": "stream",
     "text": [
      "printing results for query 'enrolled_in_chemistry(\"jordan\")':\n",
      "[()]\n",
      "\n",
      "printing results for query 'enrolled_in_chemistry(\"gale\")':\n",
      "[]\n",
      "\n",
      "printing results for query 'enrolled_in_chemistry(X)':\n",
      "    X\n",
      "---------\n",
      " abigail\n",
      " jordan\n",
      " howard\n",
      "\n",
      "printing results for query 'enrolled_in_physics_and_chemistry(X)':\n",
      "   X\n",
      "--------\n",
      " howard\n",
      "\n",
      "printing results for query 'lecturer_of(X, \"abigail\")':\n",
      "   X\n",
      "--------\n",
      " walter\n",
      " linus\n",
      "\n",
      "printing results for query 'grade_of_chemistry_students(X, \"100\")':\n",
      "    X\n",
      "---------\n",
      " abigail\n",
      "\n"
     ]
    }
   ],
   "source": [
    "%%rgxlog\n",
    "new lecturer(str, str)\n",
    "lecturer(\"walter\", \"chemistry\")\n",
    "lecturer(\"linus\", \"operation systems\")\n",
    "lecturer(\"rick\", \"physics\")\n",
    "\n",
    "new enrolled(str, str)\n",
    "enrolled(\"abigail\", \"chemistry\")\n",
    "enrolled(\"abigail\", \"operation systems\")\n",
    "enrolled(\"jordan\", \"chemistry\")\n",
    "enrolled(\"gale\", \"operation systems\")\n",
    "enrolled(\"howard\", \"chemistry\")\n",
    "enrolled(\"howard\", \"physics\")\n",
    "\n",
    "enrolled_in_chemistry(X) <- enrolled(X, \"chemistry\")\n",
    "?enrolled_in_chemistry(\"jordan\") # returns empty tuple ()\n",
    "?enrolled_in_chemistry(\"gale\") # returns nothing\n",
    "?enrolled_in_chemistry(X) # returns \"abigail\", \"jordan\" and \"howard\"\n",
    "\n",
    "enrolled_in_physics_and_chemistry(X) <- enrolled_in_chemistry(X), enrolled(X, \"physics\")\n",
    "?enrolled_in_physics_and_chemistry(X) # returns \"howard\"\n",
    "\n",
    "lecturer_of(X,Z) <- lecturer(X,Y), enrolled(Z,Y)\n",
    "?lecturer_of(X,\"abigail\") # returns \"walter\" and \"linus\"\n",
    "\n",
    "grade_str = \"abigail 100 jordan 80 gale 79 howard 60\"\n",
    "grade_of_chemistry_students(Student, Grade) <- \\\n",
    "py_rgx_string(grade_str, \"(\\w+).*?(\\d+)\")->(Student, Grade), enrolled_in_chemistry(Student)\n",
    "?grade_of_chemistry_students(X, \"100\") # returns \"abigail\""
   ]
  },
  {
   "cell_type": "markdown",
   "metadata": {
    "pycharm": {
     "name": "#%% md\n"
    }
   },
   "source": [
    "# Useful tricks<a class=\"anchor\" id=\"Usefull tricks\"></a>\n",
    "## Matching Outputs:\n",
    "Let's write a rgxlog program that gets a table in which each row is a single string - string(str).\n",
    "<br>\n",
    "The program will create a new table in which each row is a string and its length.\n",
    "\n",
    "### First try:"
   ]
  },
  {
   "cell_type": "code",
   "execution_count": 22,
   "metadata": {
    "pycharm": {
     "name": "#%%\n"
    }
   },
   "outputs": [],
   "source": [
    "# Step 1: implement an IE function\n",
    "def length(string):\n",
    "    #here we append the input to the output inside the ie function!\n",
    "    yield len(string), string\n",
    "\n",
    "magic_session.register(length, \"Length\", [DataTypes.string], [DataTypes.integer, DataTypes.string])\n"
   ]
  },
  {
   "cell_type": "code",
   "execution_count": null,
   "metadata": {
    "pycharm": {
     "name": "#%%\n",
     "is_executing": true
    }
   },
   "outputs": [],
   "source": [
    "%%rgxlog\n",
    "# Let's test this solution:\n",
    "new string(str)\n",
    "string(\"a\")\n",
    "string(\"ab\")\n",
    "string(\"abc\")\n",
    "string(\"abcd\")\n",
    "\n",
    "string_length(Str, Len) <- string(Str), Length(Str) -> (Len, Str)\n",
    "?string_length(Str, Len)"
   ]
  },
  {
   "cell_type": "markdown",
   "metadata": {
    "pycharm": {
     "name": "#%% md\n"
    }
   },
   "source": [
    "### It works\n",
    "Our first IE function yield the input in addition to the output. This will ensure that we will get\n",
    "the right output to his input. But, is this really necessary? Let's try another solution:\n"
   ]
  },
  {
   "cell_type": "code",
   "execution_count": 24,
   "metadata": {
    "pycharm": {
     "name": "#%%\n"
    }
   },
   "outputs": [],
   "source": [
    "   #here we don't append the input to the output inside the ie function!\n",
    "def length2(string):\n",
    "yield len(string),\n",
    "\n",
    "# Step 2: register the function\n",
    "magic_session.register(length2, \"Length2\", [DataTypes.string], [DataTypes.integer])"
   ]
  },
  {
   "cell_type": "code",
   "execution_count": null,
   "metadata": {
    "pycharm": {
     "name": "#%%\n",
     "is_executing": true
    }
   },
   "outputs": [],
   "source": [
    "%%rgxlog\n",
    "# Let's test this solution:\n",
    "new string(str)\n",
    "string(\"a\")\n",
    "string(\"ab\")\n",
    "string(\"abc\")\n",
    "string(\"abcd\")\n",
    "\n",
    "string_length(Str, Len) <- string(Str), Length2(Str) -> (Len)\n",
    "?string_length(Str, Len)"
   ]
  },
  {
   "cell_type": "markdown",
   "metadata": {
    "pycharm": {
     "name": "#%% md\n"
    }
   },
   "source": [
    "### It looks good, but why?\n",
    "First we can see that the IE function yield only an output without any trace to the input. In addition, RGXLog stores all the inputs of each IE function in an input table and all the outputs in an output table.\n",
    "Then it's joining the input table with the output table. So, why we still got the right solution?\n",
    "This thanks to the fact that RGXlog stores the input bounded to it's output deductively.\n",
    "\n",
    "\n",
    "\n",
    "## Logical Operators:\n",
    "Suppose we have a table in which each row contains two strings - pair(str, str).\n",
    "Our goal is to filter all the rows that contain the same value twice.\n",
    "<br>\n",
    "In other words, we want to implement the relation **not equals (NEQ)**.\n",
    "\n",
    "We would like to have a rule such as:\n",
    "<br>\n",
    "```unique_pair(X, Y) <- pair(X, Y), X != Y```\n",
    "<br><br>\n",
    "Unfortunately RGXLog doesn't support True/False values. Therefore, we can't use ```X != Y```.\n",
    "<br>\n",
    "Our solution to this problem is to create an ie function that implements NEQ relation:\n",
    "\n",
    "\n",
    "```python\n",
    "\n",
    "```"
   ]
  },
  {
   "cell_type": "code",
   "execution_count": 26,
   "metadata": {
    "pycharm": {
     "name": "#%%\n"
    }
   },
   "outputs": [],
   "source": [
    "def NEQ(x, y):\n",
    "    if x == y:\n",
    "        # return false (empty tuple represents false)\n",
    "        yield tuple() \n",
    "    else:\n",
    "        #return true\n",
    "        yield x, y\n",
    "\n",
    "in_out_types = [DataTypes.string, DataTypes.string]\n",
    "magic_session.register(NEQ, \"NEQ\", in_out_types, in_out_types)"
   ]
  },
  {
   "cell_type": "code",
   "execution_count": 27,
   "metadata": {
    "pycharm": {
     "name": "#%%\n"
    }
   },
   "outputs": [
    {
     "name": "stdout",
     "output_type": "stream",
     "text": [
      "printing results for query 'unique_pair(X, Y)':\n",
      "  X  |  Y\n",
      "-----+-----\n",
      " Dan | Tom\n",
      " Cat | Dog\n",
      " 123 | 321\n",
      "\n"
     ]
    }
   ],
   "source": [
    "%%rgxlog\n",
    "#Lets test this solution\n",
    "new pair(str, str)\n",
    "pair(\"Dan\", \"Tom\")\n",
    "pair(\"Cat\", \"Dog\")\n",
    "pair(\"Apple\", \"Apple\")\n",
    "pair(\"Cow\", \"Cow\")\n",
    "pair(\"123\", \"321\")\n",
    "\n",
    "unique_pair(X, Y) <- pair(X, Y), NEQ(X, Y) -> (X, Y)\n",
    "?unique_pair(X, Y)"
   ]
  },
  {
   "cell_type": "markdown",
   "metadata": {
    "pycharm": {
     "name": "#%% md\n"
    }
   },
   "source": [
    "# Python Implementation v.s. RgxLog Implementation"
   ]
  },
  {
   "cell_type": "markdown",
   "metadata": {
    "pycharm": {
     "name": "#%% md\n"
    }
   },
   "source": [
    "let's try to compare coding in python and coding in rgxlog.\n",
    "we are given two long strings of enrolled pairs, grades pairs.\n",
    "our goal is to find all student that are enrolled in biology and chemistry, and have a GPA = 80."
   ]
  },
  {
   "cell_type": "markdown",
   "metadata": {
    "pycharm": {
     "name": "#%% md\n"
    }
   },
   "source": [
    "## python "
   ]
  },
  {
   "cell_type": "code",
   "execution_count": 28,
   "metadata": {
    "pycharm": {
     "name": "#%%\n"
    }
   },
   "outputs": [
    {
     "name": "stdout",
     "output_type": "stream",
     "text": [
      "dave\n"
     ]
    }
   ],
   "source": [
    "import re\n",
    "enrolled = \"dave chemistry dave biology rem biology ram biology emilia physics roswaal chemistry roswaal biology roswaal physics\"\n",
    "grades = \"dave 80 rem 66 ram 66 roswaal 100 emilia 88\"\n",
    "\n",
    "enrolled_pairs = re.findall(r\"(\\w+).*?(\\w+)\", enrolled)\n",
    "grade_pairs = re.findall(r\"(\\w+).*?(\\d+)\", grades)\n",
    "for student1, course1 in enrolled_pairs:\n",
    "    for student2, course2 in enrolled_pairs:\n",
    "        for student3, grade in grade_pairs:\n",
    "            if (student1 == student2 == student3):\n",
    "                if (course1 == \"biology\" and course2 == \"chemistry\" and int(grade) == 80):\n",
    "                    print(student1)"
   ]
  },
  {
   "cell_type": "markdown",
   "metadata": {
    "pycharm": {
     "name": "#%% md\n"
    }
   },
   "source": [
    "## rgxlog"
   ]
  },
  {
   "cell_type": "code",
   "execution_count": 29,
   "metadata": {
    "scrolled": true,
    "pycharm": {
     "name": "#%%\n"
    }
   },
   "outputs": [
    {
     "name": "stdout",
     "output_type": "stream",
     "text": [
      "printing results for query 'interesting_student(X)':\n",
      "  X\n",
      "------\n",
      " dave\n",
      "\n"
     ]
    }
   ],
   "source": [
    "%%rgxlog\n",
    "enrolled = \"dave chemistry dave biology rem biology ram biology emilia physics roswaal chemistry roswaal biology roswaal physics\"\n",
    "grades = \"dave 80 rem 66 ram 66 roswaal 100 emilia 88\"\n",
    "\n",
    "enrolled_in(Student, Course) <- py_rgx_string(enrolled, \"(\\w+).*?(\\w+)\")->(Student, Course)\n",
    "student_grade(Student, Grade) <- py_rgx_string(grades, \"(\\w+).*?(\\d+)\") -> (Student, Grade)\n",
    "interesting_student(X) <- enrolled_in(X, \"biology\"), enrolled_in(X, \"chemistry\"), student_grade(X, \"80\")\n",
    "?interesting_student(X)"
   ]
  },
  {
   "cell_type": "markdown",
   "metadata": {
    "pycharm": {
     "name": "#%% md\n"
    }
   },
   "source": [
    "in this case, the python implementation was long and unnatural. on the other hand, the rgxlog implementation was cleaner and allowed us to express our intentions directly, rather than dealing with annoying programming logic."
   ]
  },
  {
   "cell_type": "markdown",
   "metadata": {
    "pycharm": {
     "name": "#%% md\n"
    }
   },
   "source": [
    "# Parsing JSON document using RgxLog"
   ]
  },
  {
   "cell_type": "markdown",
   "metadata": {
    "pycharm": {
     "name": "#%% md\n"
    }
   },
   "source": [
    "Rgxlog's JsonPath/JsonFullPath ie functions allow us to easily parse json documents using path expressions.<br>\n",
    "We will demonstrate how to use the latter. Check out the [jsonpath repo](https://github.com/json-path/JsonPath) for more information.\n",
    "\n",
    "First, we would like to remove the built-in jsonpath function, to show how we implement it from scratch:"
   ]
  },
  {
   "cell_type": "code",
   "execution_count": 30,
   "metadata": {
    "pycharm": {
     "name": "#%%\n"
    }
   },
   "outputs": [],
   "source": [
    "magic_session.remove_ie_function(\"JsonPathFull\")"
   ]
  },
  {
   "cell_type": "markdown",
   "metadata": {
    "pycharm": {
     "name": "#%% md\n"
    }
   },
   "source": [
    "After removing the function, implementing and registering it is as easy as:"
   ]
  },
  {
   "cell_type": "code",
   "execution_count": 31,
   "metadata": {
    "pycharm": {
     "name": "#%%\n"
    }
   },
   "outputs": [],
   "source": [
    "import json\n",
    "from jsonpath_ng import parse\n",
    "\n",
    "def parse_match(match) -> str:\n",
    "    \"\"\"\n",
    "    @param match: a match result of json path query.\n",
    "    @return: a string that represents the match in string format.\n",
    "    \"\"\"\n",
    "    json_result = match.value\n",
    "    if type(json_result) != str:\n",
    "        # we replace for the same reason as in json_path implementation.\n",
    "        json_result = json.dumps(json_result).replace(\"\\\"\", \"'\")\n",
    "    return json_result\n",
    "\n",
    "def json_path_full(json_document: str, path_expression: str):\n",
    "    \"\"\"\n",
    "    @param json_document: The document on which we will run the path expression.\n",
    "    @param path_expression: The query to execute.\n",
    "    @return: json documents with the full results paths.\n",
    "    \"\"\"\n",
    "    json_document = json.loads(json_document.replace(\"'\", \"\\\"\"))\n",
    "    jsonpath_expr = parse(path_expression)\n",
    "    for match in jsonpath_expr.find(json_document):\n",
    "        json_result = str(match.full_path)\n",
    "        # objects in full path are separated by dots.\n",
    "        yield *json_result.split(\".\"), parse_match(match)\n",
    "\n",
    "JsonPathFull = dict(ie_function=json_path_full,\n",
    "            ie_function_name='JsonPathFull',\n",
    "            in_rel=[DataTypes.string, DataTypes.string],\n",
    "            out_rel=lambda arity: [DataTypes.string] * arity,\n",
    "            )\n",
    "\n",
    "magic_session.register(**JsonPathFull)"
   ]
  },
  {
   "cell_type": "markdown",
   "metadata": {
    "pycharm": {
     "name": "#%% md\n"
    }
   },
   "source": [
    "And now for the usage.\n",
    "Suppose we have a json document of the following format {student: {subject: grade, ...} ,...}\n",
    "We want to create a rglox relation containg tuples of (student, subject, grade)."
   ]
  },
  {
   "cell_type": "code",
   "execution_count": 32,
   "metadata": {
    "pycharm": {
     "name": "#%%\n"
    }
   },
   "outputs": [
    {
     "name": "stdout",
     "output_type": "stream",
     "text": [
      "printing results for query 'json_table(Student, Subject, Grade)':\n",
      "  Student  |      Subject      |   Grade\n",
      "-----------+-------------------+---------\n",
      "  abigail  |     chemistry     |      80\n",
      "  abigail  | operation systems |      99\n",
      "  jordan   |     chemistry     |      65\n",
      "  jordan   |      physics      |      70\n",
      "   gale    | operation systems |     100\n",
      "  howard   |     chemistry     |      90\n",
      "  howard   |      physics      |      91\n",
      "  howard   |      biology      |      92\n",
      "\n"
     ]
    }
   ],
   "source": [
    "%%rgxlog\n",
    "\n",
    "# we use strings, as RgxLog doesn't support dicts.\n",
    "json_string = \"{ \\\n",
    "                'abigail': {'chemistry': 80, 'operation systems': 99}, \\\n",
    "                'jordan':  {'chemistry': 65, 'physics': 70}, \\\n",
    "                'gale':    {'operation systems': 100}, \\\n",
    "                'howard':  {'chemistry': 90, 'physics':91, 'biology':92} \\\n",
    "                }\"\n",
    "\n",
    "# path expression is the path to the key of each grade (in our simple case it's *.*)\n",
    "# then JsonPathFull appends the full path to the value\n",
    "json_table(Student, Subject, Grade) <- JsonPathFull(json_string, \"*.*\") -> (Student, Subject, Grade)\n",
    "?json_table(Student, Subject, Grade)"
   ]
  },
  {
   "cell_type": "markdown",
   "metadata": {
    "pycharm": {
     "name": "#%% md\n"
    }
   },
   "source": [
    "# Wrapping shell-based functions"
   ]
  },
  {
   "cell_type": "markdown",
   "metadata": {
    "pycharm": {
     "name": "#%% md\n"
    }
   },
   "source": [
    "Rgxlog's `rgx_string` ie function is a good example of running an external shell as part of rgxlog code.\n",
    "This time we won't remove the built-in function - we'll just show the implementation:"
   ]
  },
  {
   "cell_type": "markdown",
   "metadata": {
    "pycharm": {
     "name": "#%% md\n"
    }
   },
   "source": [
    "```python\n",
    "def rgx(text, regex_pattern, out_type: str):\n",
    "    \"\"\"\n",
    "    An IE function which runs regex using rust's `enum-spanner-rs` and yields tuples of strings/spans (not both).\n",
    "\n",
    "    @param text: the string on which regex is run.\n",
    "    @param regex_pattern: the pattern to run.\n",
    "    @param out_type: string/span - decides which one will be returned.\n",
    "    @return: a tuple of strings/spans.\n",
    "    \"\"\"\n",
    "    with tempfile.TemporaryDirectory() as temp_dir:\n",
    "        rgx_temp_file_name = os.path.join(temp_dir, TEMP_FILE_NAME)\n",
    "        with open(rgx_temp_file_name, \"w+\") as f:\n",
    "            f.write(text)\n",
    "\n",
    "        if out_type == \"string\":\n",
    "            rust_regex_args = rf\"{REGEX_EXE_PATH} {regex_pattern} {rgx_temp_file_name}\"\n",
    "            format_function = _format_spanner_string_output\n",
    "        elif out_type == \"span\":\n",
    "            rust_regex_args = rf\"{REGEX_EXE_PATH} {regex_pattern} {rgx_temp_file_name} --bytes-offset\"\n",
    "            format_function = _format_spanner_span_output\n",
    "        else:\n",
    "            assert False, \"illegal out_type\"\n",
    "\n",
    "        regex_output = format_function(run_cli_command(rust_regex_args, stderr=True))\n",
    "\n",
    "        for out in regex_output:\n",
    "            yield out\n",
    "\n",
    "def rgx_string(text, regex_pattern):\n",
    "    \"\"\"\n",
    "    @param text: The input text for the regex operation.\n",
    "    @param regex_pattern: the pattern of the regex operation.\n",
    "    @return: tuples of strings that represents the results.\n",
    "    \"\"\"\n",
    "    return rgx(text, regex_pattern, \"string\")\n",
    "\n",
    "RGX_STRING = dict(ie_function=rgx_string,\n",
    "                  ie_function_name='rgx_string',\n",
    "                  in_rel=RUST_RGX_IN_TYPES,\n",
    "                  out_rel=rgx_string_out_type)\n",
    "\n",
    "# another version of these functions exists (rgx_from_file), it can be seen in the source code\n",
    "```"
   ]
  },
  {
   "cell_type": "markdown",
   "metadata": {
    "pycharm": {
     "name": "#%% md\n"
    }
   },
   "source": [
    "`run_cli_command` is an STDLIB function used in rgxlog, which basically runs a command using python's `Popen`.\n",
    "\n",
    "in order to denote regex groups, use `(?P<name>pattern)`. the output is in alphabetical order.\n",
    "Let's run the ie function:"
   ]
  },
  {
   "cell_type": "code",
   "execution_count": 33,
   "metadata": {
    "scrolled": true,
    "pycharm": {
     "name": "#%%\n"
    }
   },
   "outputs": [
    {
     "name": "stdout",
     "output_type": "stream",
     "text": [
      "printing results for query 'string_rel(X, Y)':\n",
      "  X  |  Y\n",
      "-----+-----\n",
      "  a  | cc\n",
      "  a  |  c\n",
      "  z  |  c\n",
      "\n"
     ]
    }
   ],
   "source": [
    "%%rgxlog\n",
    "text = \"zcacc\"\n",
    "pattern = \"(?P<group_not_c>[^c]+)(?P<group_c>[c]+)\"\n",
    "string_rel(X,Y) <- rgx_string(text, pattern) -> (X,Y)\n",
    "?string_rel(X,Y)"
   ]
  },
  {
   "cell_type": "code",
   "execution_count": null,
   "metadata": {
    "pycharm": {
     "name": "#%%\n"
    }
   },
   "outputs": [],
   "source": []
  }
 ],
 "metadata": {
  "jupytext": {
   "formats": "ipynb,md"
  },
  "kernelspec": {
   "display_name": "Python 3 (ipykernel)",
   "language": "python",
   "name": "python3"
  },
  "language_info": {
   "codemirror_mode": {
    "name": "ipython",
    "version": 3
   },
   "file_extension": ".py",
   "mimetype": "text/x-python",
   "name": "python",
   "nbconvert_exporter": "python",
   "pygments_lexer": "ipython3",
   "version": "3.9.6"
  },
  "pycharm": {
   "stem_cell": {
    "cell_type": "raw",
    "metadata": {
     "collapsed": false
    },
    "source": []
   }
  },
  "toc": {
   "base_numbering": 1,
   "nav_menu": {},
   "number_sections": true,
   "sideBar": true,
   "skip_h1_title": false,
   "title_cell": "Table of Contents",
   "title_sidebar": "Contents",
   "toc_cell": false,
   "toc_position": {
    "height": "calc(100% - 180px)",
    "left": "10px",
    "top": "150px",
    "width": "349.091px"
   },
   "toc_section_display": true,
   "toc_window_display": true
  }
 },
 "nbformat": 4,
 "nbformat_minor": 4
}